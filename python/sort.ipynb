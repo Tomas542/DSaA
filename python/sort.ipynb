{
  "cells": [
    {
      "attachments": {},
      "cell_type": "markdown",
      "id": "1cdf0df0",
      "metadata": {},
      "source": [
        "# Sorting algorithms on Python by __[Artyom Iudin](https://github.com/Tomas542/DSaA)__"
      ]
    },
    {
      "attachments": {},
      "cell_type": "markdown",
      "id": "e6ce2b61",
      "metadata": {},
      "source": [
        "<div class=\"alert alert-block alert-info\">\n",
        "<b>Chapter navigation</b> is broken on git repo. Download .ipynb to use it.\n",
        "</div>"
      ]
    },
    {
      "attachments": {},
      "cell_type": "markdown",
      "id": "particular-syndicate",
      "metadata": {
        "id": "particular-syndicate"
      },
      "source": [
        "# Chapters\n",
        "0. [Import](#import)\n",
        "1. [Merge sort](#merge_common)\n",
        "      1. [Merge sort with min() and max()](#merge_min_max)\n",
        "      2. [Merge sort with recursion](#merge_rec)\n",
        "2. [Quick sort](#quick_common)\n",
        "      1. [Quick sort with Python's lists](#quick_list)\n",
        "      2. [Quick sort with NumPy's arrays](#quick_np)\n",
        "      3. [Quick sort with 1 array](#quick_one)\n",
        "3. [Selection sort](#select_common)\n",
        "      1. [Selection sort simple](#select_simple)\n",
        "      2. [Selection sort lazy](#select_lazy)\n",
        "4. [Bubble sort](#bubble_common)\n",
        "5. [Insertion sort](#insertion_common)\n",
        "6. [Shell sort](#shell_common)\n",
        "7. [Heap sort](#heap_common)\n",
        "8. [Bucket sort](#bucket_common)\n",
        "9. [Stalin sort](#stalin_common)\n",
        "10. [Bogo sort](#bogo_common)"
      ]
    },
    {
      "attachments": {},
      "cell_type": "markdown",
      "id": "1a190ae8",
      "metadata": {},
      "source": [
        "# Import <a class=\"anchor\" id=\"import\"></a>\n",
        "\n",
        "\n",
        "<div class=\"alert alert-block alert-info\">\n",
        "I used built-in <b>random</b> (generating random numbers and choices).\n",
        "</div>\n",
        "\n",
        "<div class=\"alert alert-block alert-info\">\n",
        "Also I used <b>numpy</b> (optimising some algos), <b>jupyter</b> (this doc format). Please, use pip or conda to install them or some cells won't execute.\n",
        "</div>\n",
        "\n"
      ]
    },
    {
      "cell_type": "code",
      "execution_count": 1,
      "id": "built-contact",
      "metadata": {
        "id": "built-contact"
      },
      "outputs": [],
      "source": [
        "import random\n",
        "\n",
        "import numpy as np"
      ]
    },
    {
      "cell_type": "markdown",
      "id": "649391c0",
      "metadata": {},
      "source": [
        "<div class=\"alert alert-block alert-info\">\n",
        "You can use <b>is_sorted</b> from <b>utils.py</b> to check whether array sorted or not.\n",
        "</div>"
      ]
    },
    {
      "attachments": {},
      "cell_type": "markdown",
      "id": "36e99705",
      "metadata": {},
      "source": [
        "# Merge sort <a class=\"anchor\" id=\"merge_common\"></a>\n",
        "Merge algorithm seperates collection into several parts, sorts them and then merges them."
      ]
    },
    {
      "attachments": {},
      "cell_type": "markdown",
      "id": "0c5e2848",
      "metadata": {},
      "source": [
        "### Merge sort min max <a class=\"anchor\" id=\"merge_min_max\"></a>\n",
        "Implementation of merge sort with seperating array into 2 subarrays  with min and max functions and then merge them (subarrays).\n",
        "\n",
        "Best case Scenario : O(n)\n",
        "\n",
        "Worst case Scenario : O(n^2) because native Python functions:min, max and remove are already O(n)"
      ]
    },
    {
      "cell_type": "code",
      "execution_count": 3,
      "id": "e98851b7",
      "metadata": {},
      "outputs": [],
      "source": [
        "def merge_sort_min_max(array: list[int]) -> None:\n",
        "    start = []\n",
        "    end = []\n",
        "\n",
        "    while len(set(array)) > 1:\n",
        "        # appending start array with largest num\n",
        "        max_num = max(array)\n",
        "        start.append(max_num)\n",
        "\n",
        "        # appending end array with smallest num\n",
        "        min_num = min(array)\n",
        "        end.append(min_num)\n",
        "\n",
        "        # removing this nums from our unsorted arrayay\n",
        "        array.remove(max_num)\n",
        "        array.remove(min_num)\n",
        "      \n",
        "    end.reverse()\n",
        "    array = end + array + start       "
      ]
    },
    {
      "attachments": {},
      "cell_type": "markdown",
      "id": "7b5fa829",
      "metadata": {},
      "source": [
        "### Merge sort with recursion <a class=\"anchor\" id=\"merge_rec\"></a>\n",
        "Recursive devision of array into left (less than mid) and right (greater than mid) parts till they won't sort themselves.\n",
        "\n",
        "Best, Worst and Average Cases scenario: O(n*log n)"
      ]
    },
    {
      "cell_type": "code",
      "execution_count": 4,
      "id": "cc4b8071",
      "metadata": {},
      "outputs": [],
      "source": [
        "def merge_sort_rec(array: list[int]) -> None:\n",
        "    if len(set(array)) > 1:\n",
        "        # taking middle index of array\n",
        "        mid = len(array) // 2\n",
        "\n",
        "        # deviding array into 2 subarrays\n",
        "        left = array[:mid]\n",
        "        right = array[mid:]\n",
        "\n",
        "        # recursive sorting with merge\n",
        "        merge_sort_rec(left)\n",
        "        merge_sort_rec(right)\n",
        "\n",
        "        # left array, right array and unsorted array indexes\n",
        "        i = j = k = 0\n",
        "\n",
        "        # changing numbers in unsorted array till one of subarrays won't end\n",
        "        while i < len(left) and j < len(right):\n",
        "            if left[i] <= right[j]:\n",
        "                array[k] = left[i]\n",
        "                i += 1\n",
        "                k += 1\n",
        "            \n",
        "            else:\n",
        "                array[k] = right[j]\n",
        "                j += 1\n",
        "                k += 1\n",
        "\n",
        "        # if right subarray ended first earlier\n",
        "        while i < len(left):\n",
        "            array[k] = left[i]\n",
        "            i += 1\n",
        "            k += 1\n",
        "\n",
        "        # if left subarray ended first earlier\n",
        "        while j < len(right):\n",
        "            array[k] = left[j]\n",
        "            j += 1\n",
        "            k += 1\n",
        "            "
      ]
    },
    {
      "attachments": {},
      "cell_type": "markdown",
      "id": "cd024882",
      "metadata": {},
      "source": [
        "# Quick sort <a class=\"anchor\" id=\"quick_common\"></a>\n",
        "Quick sort is one of the most popular sorting algorithms. Python's buit-in list().sort() and sorted() are quick sorts. It uses recursive calls seperating numbers greater or smaller onto right or left and then merging. Sounds familiar to merge sort."
      ]
    },
    {
      "attachments": {},
      "cell_type": "markdown",
      "id": "981dccf2",
      "metadata": {},
      "source": [
        "### Quick sort with Python's lists <a class=\"anchor\" id=\"quick_list\"></a>\n",
        "Uses Python lists. Seperating itself till they won't sort.\n",
        "\n",
        "Best and Average Cases scenario: O(n*log n)\n",
        "\n",
        "Worst Case scenario: O(n^2)\n",
        "\n",
        "Space complexity: O(n)"
      ]
    },
    {
      "cell_type": "code",
      "execution_count": 5,
      "id": "9ef9d852",
      "metadata": {},
      "outputs": [],
      "source": [
        "def quick_sort_list(array: list[int]) -> list[int]:\n",
        "    if len(set(array)) <= 1:\n",
        "        return array\n",
        "    \n",
        "    # picking random number from array\n",
        "    chosen_num = random.choice(array)\n",
        "    \n",
        "    smaller_array = []\n",
        "    greater_array = []\n",
        "\n",
        "    # picking numbers from array \n",
        "    for i in range(len(array)):\n",
        "        if array[i] <= chosen_num:\n",
        "            smaller_array.append(array[i])\n",
        "        \n",
        "        elif array[i] > chosen_num:\n",
        "            greater_array.append(array[i])\n",
        "\n",
        "\n",
        "    # recursive calls\n",
        "    return quick_sort_list(smaller_array) + quick_sort_list(greater_array)"
      ]
    },
    {
      "attachments": {},
      "cell_type": "markdown",
      "id": "0250df8e",
      "metadata": {},
      "source": [
        "### Quick sort with NumPy <a class=\"anchor\" id=\"quick_np\"></a>\n",
        "Cause of NumPy's methods of working with arrays it allows us to avoid for-loop and to speed-up a little bit sorting.\n",
        "\n",
        "Best and Average Cases scenario: O(n*log n)\n",
        "\n",
        "Worst Case scenario: O(n^2)\n",
        "\n",
        "Space complexity: O(n)"
      ]
    },
    {
      "cell_type": "code",
      "execution_count": 6,
      "id": "145c1fda",
      "metadata": {},
      "outputs": [],
      "source": [
        "def quick_sort_np(array: list[int]) -> list[int]:\n",
        "    if len(set(array)) <= 1:\n",
        "        return array\n",
        "    \n",
        "    np_arr = np.array(array)\n",
        "    \n",
        "    # picking random number from array\n",
        "    chosen_num = np.random.choice(array)\n",
        "    \n",
        "    smaller_array = np_arr[np_arr <= chosen_num].tolist()\n",
        "    greater_array = np_arr[np_arr > chosen_num].tolist()\n",
        "\n",
        "    #recursive calls\n",
        "    return quick_sort_np(smaller_array) + quick_sort_np(greater_array)"
      ]
    },
    {
      "attachments": {},
      "cell_type": "markdown",
      "id": "453866fb",
      "metadata": {},
      "source": [
        "### Quick sort with 1 array <a class=\"anchor\" id=\"quick_one\"></a>\n",
        "This variant of array uses less space, but harder in understanding.\n",
        "\n",
        "Best and Average Cases scenario: O(n*log n)\n",
        "\n",
        "Worst Case scenario: O(n^2)\n",
        "\n",
        "Space complexity: O(1)"
      ]
    },
    {
      "cell_type": "code",
      "execution_count": 7,
      "id": "6178b1e0",
      "metadata": {},
      "outputs": [],
      "source": [
        "def partition(array: list[int], low: int, high: int) -> int:\n",
        "    # pick a random num\n",
        "    pivot = random.randrange(low, high)\n",
        "    # swap that num with beginning of our part\n",
        "    array[low], array[pivot] = array[pivot], array[low]\n",
        "     \n",
        "    i = low + 1\n",
        "    \n",
        "    # walking through our part\n",
        "    for j in range(low + 1, high + 1):\n",
        "        \n",
        "        # if num less than we've picked, swap next to us number with it\n",
        "        if array[j] <= array[low]:\n",
        "            array[i] , array[j] = array[j] , array[i]\n",
        "            i += 1\n",
        "\n",
        "    # after our sorting return picked number to it's place\n",
        "    array[low] , array[i - 1] = array[i - 1] , array[low]\n",
        "\n",
        "    return (i - 1)\n",
        "\n",
        "def quick_sort_one(array: list[int], low: int, high: int) -> None:\n",
        "    if low < high:\n",
        "        pivot_index = partition(array, low, high)\n",
        "\n",
        "        # recursive calls to left and right parts\n",
        "        quick_sort_one(array, low, pivot_index - 1)\n",
        "        quick_sort_one(array, pivot_index + 1, high)"
      ]
    },
    {
      "attachments": {},
      "cell_type": "markdown",
      "id": "77aeffc9",
      "metadata": {},
      "source": [
        "# Selection sort <a class=\"anchor\" id=\"select_common\"></a>\n",
        "Selection sort is one of the permutation sorts. It is cuts the array and moves the smallest number to the left"
      ]
    },
    {
      "attachments": {},
      "cell_type": "markdown",
      "id": "6458cd78",
      "metadata": {},
      "source": [
        "### Selection sort simple <a class=\"anchor\" id=\"select_simple\"></a>\n",
        "Simple implementation of the algorithm.\n",
        "\n",
        "All Cases scenario: O(n^2)"
      ]
    },
    {
      "cell_type": "code",
      "execution_count": 8,
      "id": "5f03927e",
      "metadata": {},
      "outputs": [],
      "source": [
        "def selection_sort_simple(array: list[int]) -> list[int]:\n",
        "    sorted_numbers = 0\n",
        "    length = len(array) - 1 \n",
        "    max_num = max(array)\n",
        "\n",
        "    # while no all numbers are sorted\n",
        "    while sorted_numbers != length:\n",
        "        # smallest = sorted numbers on the left part. We will take the right one\n",
        "        cut_array = array[sorted_numbers:]\n",
        "        array_min = max_num\n",
        "\n",
        "        # seacrhing for the lowest number in the cut_array\n",
        "        for i in range(len(cut_array)):\n",
        "            if array_min > cut_array[i]:\n",
        "                array_min = cut_array[i]\n",
        "                min_ind = i\n",
        "\n",
        "        # putting smallest number in the ecut_array on the left\n",
        "        cut_array[0], cut_array[min_ind] = cut_array[min_ind], cut_array[0]\n",
        "        # join sorted and cut parts\n",
        "        array = array[:sorted_numbers] + cut_array\n",
        "\n",
        "        sorted_numbers += 1\n",
        "\n",
        "    return array"
      ]
    },
    {
      "attachments": {},
      "cell_type": "markdown",
      "id": "5d2f9a4f",
      "metadata": {},
      "source": [
        "### Selection sort lazy <a class=\"anchor\" id=\"select_lazy\"></a>\n",
        "Lazy implementation with Python's built-in fucntions.\n",
        "\n",
        "All Cases scenario: O(n^2)"
      ]
    },
    {
      "cell_type": "code",
      "execution_count": 9,
      "id": "072edcaa",
      "metadata": {},
      "outputs": [],
      "source": [
        "def selection_sort_lazy(array: list[int]) -> list[int]:\n",
        "    sorted_numbers = 0\n",
        "\n",
        "    # while not all numbers are sorted\n",
        "    while sorted_numbers != len(array) - 1:\n",
        "        # smallest numbers = sorted on the left, cut right part\n",
        "        cut_array = array[sorted_numbers:]\n",
        "        array_min = min(cut_array)\n",
        "\n",
        "        # if in cut_array first element is not the smallest in cut_array\n",
        "        if cut_array[0] != array_min:\n",
        "            cut_array[cut_array.index(array_min)], cut_array[0] = cut_array[0], cut_array[cut_array.index(array_min)]\n",
        "\n",
        "        # join sorted and cut parts\n",
        "        array = array[:sorted_numbers] + cut_array\n",
        "\n",
        "        sorted_numbers += 1\n",
        "\n",
        "    return array"
      ]
    },
    {
      "attachments": {},
      "cell_type": "markdown",
      "id": "a78b1cf9",
      "metadata": {},
      "source": [
        "# Bubble sort <a class=\"anchor\" id=\"bubble_common\"></a>\n",
        "Kinda similar to selection sort. Swapping large numbers to the right of the array.\n",
        "\n",
        "All Cases scenario: O(n^2)"
      ]
    },
    {
      "cell_type": "code",
      "execution_count": 10,
      "id": "4f98260b",
      "metadata": {},
      "outputs": [],
      "source": [
        "def bubble_sort(array: list[int]) -> None:\n",
        "    for i in range(len(array) - 1):\n",
        "        swap_check = True\n",
        "\n",
        "        for j in range(len(array) - i - 1):\n",
        "            if array[j] > array[j + 1]:\n",
        "                array[j], array[j + 1] = array[j + 1], array[j]\n",
        "                swap_check = False\n",
        "\n",
        "        # if there was no swaps\n",
        "        if swap_check:\n",
        "            break\n",
        "    \n",
        "                "
      ]
    },
    {
      "attachments": {},
      "cell_type": "markdown",
      "id": "025813e7",
      "metadata": {},
      "source": [
        "# Insertion sort <a class=\"anchor\" id=\"insertion_common\"></a>\n",
        "Moving from left to right with \"swallowing\" new numbers. The first number is taken as \"the smallest\".\n",
        "\n",
        "Best Case scenario: O(n)\n",
        "\n",
        "Average and Wordt Cases scenario: O(n^2)"
      ]
    },
    {
      "cell_type": "code",
      "execution_count": 11,
      "id": "b0e35f58",
      "metadata": {},
      "outputs": [],
      "source": [
        "def insertion_sort(array: list[int]) -> None:\n",
        "    length = len(array)\n",
        "    # moving to the right\n",
        "    for i in range(1, length):\n",
        "        # storing current value\n",
        "        value = array[i]\n",
        "        j = i - 1\n",
        "\n",
        "        # moving backward to compare current number with sorted\n",
        "        while (j >= 0 and value < array[j]):\n",
        "            array[j + 1] = array[j]\n",
        "            j -= 1\n",
        "        \n",
        "        # placing current number into sorted \n",
        "        array[j + 1] = value\n",
        "    "
      ]
    },
    {
      "attachments": {},
      "cell_type": "markdown",
      "id": "eff4a5f7",
      "metadata": {},
      "source": [
        "# Shell sort <a class=\"anchor\" id=\"shell_common\"></a>\n",
        "Shell is variant of bubble and insertion sorts. We comparing numbers in some gap and swapping them if it needs. Gap size is up to programmer.\n",
        "\n",
        "Best and Average Cases scenario: O(n * log n)\n",
        "\n",
        "Worst Case scenario: O(n^2)"
      ]
    },
    {
      "cell_type": "code",
      "execution_count": 12,
      "id": "42162399",
      "metadata": {},
      "outputs": [],
      "source": [
        "def shell_sort(array:list[int]) -> None:\n",
        "    count = 0\n",
        "    length = len(array)\n",
        "    # first gap\n",
        "    gap = length // 2 - 1\n",
        "\n",
        "    while gap > 0:\n",
        "        for i in range(gap, length):\n",
        "            j = i\n",
        "            current = array[i]\n",
        "            \n",
        "            # going backward and swapping numbers\n",
        "            while (gap <= j and array[j - gap] > current):\n",
        "                array[j] = array[j - gap]\n",
        "                j -= gap\n",
        "\n",
        "            array[j] = current\n",
        "        \n",
        "        count += 1\n",
        "\n",
        "        # recalculating gap\n",
        "        gap = gap //  2\n"
      ]
    },
    {
      "attachments": {},
      "cell_type": "markdown",
      "id": "ded2c969",
      "metadata": {},
      "source": [
        "# Heap sort <a class=\"anchor\" id=\"heap_common\"></a>\n",
        "\n",
        "We creating a binary heap with all leaves-elements not greater than the root. Analog of Python's built in heapq library.\n",
        "\n",
        "Best and Average Cases scenario: O(n * log n)\n",
        "\n",
        "Worst Case scenario: O(n^2)"
      ]
    },
    {
      "cell_type": "code",
      "execution_count": 13,
      "id": "ea7db8b1",
      "metadata": {},
      "outputs": [],
      "source": [
        "def heap_sort(array:list[int]) -> None:\n",
        "    # building a heap\n",
        "    for i in range(len(array)//2 - 1, -1, -1):\n",
        "        heapify(array, i, len(array))\n",
        "    \n",
        "    for i in range(len(array) - 1, 0, -1):\n",
        "        # cause the greatest elemnt is on 0 index we swaping it with -1 indexed step by step\n",
        "        array[0], array[i] = array[i], array[0]\n",
        "        heapify(array, 0, i)\n",
        "\n",
        "# heapifying the array with moving all largest numbers to the left of arrat (not left leaf)\n",
        "def heapify(array:list[int], idx:int, maxim:int) -> None:\n",
        "    largest = idx\n",
        "    left = 2 * idx + 1\n",
        "    right = 2 * idx + 2\n",
        "\n",
        "    if left < maxim and array[left] > array[idx]:\n",
        "        largest = left\n",
        "    if right < maxim and array[right] > array[largest]:\n",
        "        largest = right\n",
        "\n",
        "    # left element (root) not greater than it's children (leaves left and right)\n",
        "    if largest != idx:\n",
        "        array[idx], array[largest] = array[largest], array[idx]\n",
        "        heapify(array, largest, maxim)"
      ]
    },
    {
      "attachments": {},
      "cell_type": "markdown",
      "id": "b0112c59",
      "metadata": {},
      "source": [
        "# Bucket sort <a class=\"anchor\" id=\"bucket_common\"></a>\n",
        "\n",
        "We counting how often we see the elemnt in the array and than putting it back.\n",
        "\n",
        "Best case scenario: O(n)\n",
        "\n",
        "Space complexity: O(max(n) - min(n))\n"
      ]
    },
    {
      "cell_type": "code",
      "execution_count": 39,
      "id": "d818444a",
      "metadata": {},
      "outputs": [],
      "source": [
        "def bucket_sort(array:list[int], min_el:int, max_el:int) -> list[int]:\n",
        "    new_arr = [0] * (max_el - min_el + 1)\n",
        "    length = len(array)\n",
        "    \n",
        "    for i in range(length):\n",
        "        new_arr[array[i] - min_el] += 1\n",
        "    \n",
        "    array = []\n",
        "    for i in range(len(new_arr)):\n",
        "        if new_arr[i] != 0:\n",
        "            array.append(i + min_el)\n",
        "    \n",
        "    return array"
      ]
    },
    {
      "cell_type": "markdown",
      "id": "889ebd91",
      "metadata": {},
      "source": [
        "# Stalin sort <a class=\"anchor\" id=\"stalin_common\"></a>\n",
        "\n",
        "One of \"stupid sort\" algorithm that similar to bubble except it deletes element not in order, not swap it. Data lose almost is guaranteed\n",
        "\n",
        "Best and worst case scenario: O(n)\n"
      ]
    },
    {
      "cell_type": "code",
      "execution_count": null,
      "id": "967c61cc",
      "metadata": {},
      "outputs": [],
      "source": [
        "def stalin_sort(array:list[int]) -> list[int]:\n",
        "    if len(array) < 2:\n",
        "        return array\n",
        "    \n",
        "    for i in range(len(array - 1)):\n",
        "        if array[i] > array[i+1]:\n",
        "            array.pop(i + 1)\n",
        "    \n",
        "    return array"
      ]
    },
    {
      "attachments": {},
      "cell_type": "markdown",
      "id": "f8b2de2f",
      "metadata": {},
      "source": [
        "# Bogo sort <a class=\"anchor\" id=\"bogo_common\"></a>\n",
        "\n",
        "Aka permutation sort, stupid sort, slowsort or bozosort. We just randomly shuffles the array until it sorts by itself.\n",
        "\n",
        "Best case scenario: O(1)\n",
        "\n",
        "Worst case scenario: O(inf)\n",
        "\n",
        "<div class=\"alert alert-block alert-danger\">\n",
        "You should beware of using it cause of infinite loop.\n",
        "</div>\n"
      ]
    },
    {
      "cell_type": "code",
      "execution_count": null,
      "id": "b645cc71",
      "metadata": {},
      "outputs": [],
      "source": [
        "def bogo_sort(array:list) -> list[int]:\n",
        "    answer = sorted(array)\n",
        "    while guess := random.shuffle(array) != answer:\n",
        "        print('Nope')\n",
        "    \n",
        "    # I know, technically not that should be return, but I don't care, it's bogosort\n",
        "    return guess"
      ]
    }
  ],
  "metadata": {
    "colab": {
      "provenance": []
    },
    "kernelspec": {
      "display_name": ".venv",
      "language": "python",
      "name": "python3"
    },
    "language_info": {
      "codemirror_mode": {
        "name": "ipython",
        "version": 3
      },
      "file_extension": ".py",
      "mimetype": "text/x-python",
      "name": "python",
      "nbconvert_exporter": "python",
      "pygments_lexer": "ipython3",
      "version": "3.9.7"
    },
    "vscode": {
      "interpreter": {
        "hash": "9868f2bdb0a7b38d0be3e4ec6a752692d5785b6ab8744dac3289f65e29953b76"
      }
    }
  },
  "nbformat": 4,
  "nbformat_minor": 5
}
