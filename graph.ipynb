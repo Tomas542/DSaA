{
  "cells": [
    {
      "cell_type": "markdown",
      "metadata": {},
      "source": [
        "# Graph algorithms in Python by __[Artyom Iudin](https://github.com/Tomas542/DSaA)__\n",
        "\n",
        "<div class=\"alert alert-block alert-info\">\n",
        "<b>Chapter navigation</b> is broken on github. Download .ipynb to use it.\n",
        "</div>\n",
        "\n",
        "[Link to my gitlab](https://gitlab.com/Tomas245/dsaa)"
      ]
    },
    {
      "cell_type": "markdown",
      "metadata": {},
      "source": [
        "# Chapters\n",
        "0. [Preparetions](#preps)\n",
        "      1. [Imports](#imports)\n",
        "      2. [Graph class](#graph)\n",
        "1. [Breadth First Search](#bfs)\n",
        "2. [Depth First Search](#dfs)\n",
        "3. [Levit](#levit)\n",
        "4. [Dijkstra](#dijkstra)\n",
        "5. [Bellman-Ford](#bellman_ford)"
      ]
    },
    {
      "cell_type": "markdown",
      "metadata": {},
      "source": [
        "# Import <a class=\"anchor\" id=\"import\"></a>\n",
        "\n",
        "Import of modules we need"
      ]
    },
    {
      "cell_type": "code",
      "execution_count": null,
      "metadata": {},
      "outputs": [],
      "source": [
        "import collections"
      ]
    },
    {
      "cell_type": "markdown",
      "metadata": {},
      "source": [
        "# Graph class <a class=\"anchor\" id=\"graph\"></a>\n",
        "\n",
        "This class will be one of the representations of graphs as tuple of edges [u, v, weight]"
      ]
    },
    {
      "cell_type": "code",
      "execution_count": null,
      "metadata": {},
      "outputs": [],
      "source": [
        "class Graph:\n",
        "    def __init__(self, vertices:int) -> None:\n",
        "        self.V = vertices\n",
        "        self.graph = []\n",
        "\n",
        "    def add_edge(self, u:int, v:int, w:int) -> None:\n",
        "        self.graph.append((u, v, w))"
      ]
    },
    {
      "cell_type": "markdown",
      "metadata": {},
      "source": [
        "# Breadth First Search <a class=\"anchor\" id=\"linear\"></a>\n",
        "\n",
        "This algorithm allows to find all vertices that are connected on undirected unweighted graph"
      ]
    },
    {
      "cell_type": "code",
      "execution_count": null,
      "metadata": {},
      "outputs": [],
      "source": [
        "def bfs(matrix: list[list[str]], start: tuple[str, str]) -> set(tuple[str, str]):\n",
        "    # our queue of vertices we didn'r visit yet\n",
        "    q = collections.deque()\n",
        "    q.append(start)\n",
        "\n",
        "    # visited set for vertices\n",
        "    visited = set()\n",
        "    visited.add(start)\n",
        "\n",
        "    rows = len(matrix)\n",
        "    cols = len(matrix[0])\n",
        "\n",
        "    # sides where we will move on our matrix\n",
        "    directions = [[1, 0], [-1, 0], [0, 1], [0, -1]]    \n",
        "\n",
        "    while q:\n",
        "        # taking vertice from the graph\n",
        "        row, col = q.popleft()\n",
        "        for dir_row, dir_col in directions:\n",
        "            # taking new direction in matrix\n",
        "            r, c = row + dir_row, col + dir_col\n",
        "\n",
        "            # checkin it in bounds of matrix, not visited vertice\n",
        "            if ((r in range(rows)) and (c in range(cols)) and \n",
        "                (matrix[r][c] == '1') and ((r, c) not in visited)):\n",
        "                q.append((r, c))\n",
        "                visited.add((r, c))\n",
        "\n",
        "    return visited\n"
      ]
    },
    {
      "cell_type": "markdown",
      "metadata": {},
      "source": [
        "# Depth First Search <a class=\"anchor\" id=\"dfs\"></a>\n",
        "\n",
        "Same as bfs, but we poping left from our queue\n"
      ]
    },
    {
      "cell_type": "code",
      "execution_count": null,
      "metadata": {},
      "outputs": [],
      "source": [
        "def dfs(matrix: list[list[str]], start: tuple[str, str]) -> set(tuple[str, str]):\n",
        "    # our queue of vertices we didn'r visit yet\n",
        "    q = collections.deque()\n",
        "    q.append(start)\n",
        "\n",
        "    # visited set for vertices\n",
        "    visited = set()\n",
        "    visited.add(start)\n",
        "\n",
        "    rows = len(matrix)\n",
        "    cols = len(matrix[0])\n",
        "\n",
        "    # sides where we will move on our matrix\n",
        "    directions = [[1, 0], [-1, 0], [0, 1], [0, -1]]    \n",
        "\n",
        "    while q:\n",
        "        # taking vertice from the graph\n",
        "        row, col = q.pop()\n",
        "        for dir_row, dir_col in directions:\n",
        "            # taking new direction in matrix\n",
        "            r, c = row + dir_row, col + dir_col\n",
        "\n",
        "            # checkin it in bounds of matrix, not visited vertice\n",
        "            if ((r in range(rows)) and (c in range(cols)) and \n",
        "                (matrix[r][c] == '1') and ((r, c) not in visited)):\n",
        "                q.append((r, c))\n",
        "                visited.add((r, c))\n",
        "\n",
        "    return visited\n"
      ]
    },
    {
      "cell_type": "markdown",
      "metadata": {},
      "source": [
        "# Levit (Pape-Levit) <a class=\"anchor\" id=\"levit\"></a>\n",
        "\n",
        "We have 3 structure: m0 - caluclated (maybe not finally) vertices, m1 - queue for calculating, m2 - we don't know path and distance. We removing start from m2 to m1 and going through it's neighbours.\n",
        "\n",
        "<div class=\"alert alert-block alert-info\">\n",
        "Levit is vulnerable to negative infinite loops inside grapgh\n",
        "</div>\n",
        "\n",
        "Time complexity: O(V * E)"
      ]
    },
    {
      "cell_type": "code",
      "execution_count": null,
      "metadata": {},
      "outputs": [],
      "source": [
        "def levit(gr, start: int = 0) -> None:\n",
        "    # calculated vertices\n",
        "    m0 = []\n",
        "\n",
        "    # vertices in queue for calculation\n",
        "    m1 = collections.deque()\n",
        "    \n",
        "    # uncalculated vertices we have no path yet\n",
        "    m2 = [x for x in range(gr.V)]\n",
        "    m1.append(m2.pop(start))\n",
        "    \n",
        "    # list of distances to vertices\n",
        "    dist = [float('inf') for _ in range(gr.V)]\n",
        "    dist[start] = 0\n",
        "\n",
        "    # predecesors of vertices\n",
        "    pred = [-1 for _ in range(gr.V)]\n",
        "    pred[start] = None\n",
        "\n",
        "    while m1:\n",
        "        current = m1.popleft()\n",
        "        for u, v, w in gr.graph:\n",
        "            if u == current:\n",
        "                # we have no distance and predecessor for this vertice\n",
        "                if v in m2:\n",
        "                    dist[v] = dist[u] + w\n",
        "                    m2.remove(v)\n",
        "                    m1.append(v)\n",
        "                    pred[v] = u\n",
        "                \n",
        "                # we have distance and predecessor for this vertice\n",
        "                elif v in m1:\n",
        "                    # we found shorter path\n",
        "                    if dist[v] >= dist[u] + w:\n",
        "                        dist[v] = dist[u] + w\n",
        "                        pred[v] = u\n",
        "                \n",
        "                # we calculated it and it's neighbours paths\n",
        "                elif v in m0:\n",
        "                    # we found shorter way to this vertice\n",
        "                    if dist[v] > dist[u] + w:\n",
        "                        dist[v] = dist[u] + w\n",
        "                        pred[v] = u\n",
        "                        m0.remove(v)\n",
        "                        # we recalculate it's neighbours paths\n",
        "                        m1.appendleft(v)\n",
        "        \n",
        "        m0.append(current)\n",
        "        "
      ]
    },
    {
      "cell_type": "markdown",
      "metadata": {},
      "source": [
        "# Dijkstra <a class=\"anchor\" id=\"dijkstra\"></a>\n",
        "\n",
        "In not negative weight graph we take vertices with shortest path to it (we won't find shorter in this case) and calculating it's neighbour's paths.\n",
        "\n",
        "<div class=\"alert alert-block alert-info\">\n",
        "Dijkstra is vulnerable to negative weighted edges in grapgh\n",
        "</div>\n",
        "\n",
        "Time complexity: O((V + E) * log V)"
      ]
    },
    {
      "cell_type": "code",
      "execution_count": null,
      "metadata": {},
      "outputs": [],
      "source": [
        "def dijkstra(gr, start: int) -> None:\n",
        "    # our heap of uncalculated vertices\n",
        "    map_heap = {}\n",
        "\n",
        "    for i in range(gr.V):\n",
        "        # till we don't know distance we use inf\n",
        "        map_heap[i] = float('inf')\n",
        "\n",
        "    map_heap.pop(start)\n",
        "    # list of final distances to vertices\n",
        "    dist = [float('inf') for _ in range(gr.V)]\n",
        "    dist[start] = 0\n",
        "\n",
        "    # predecessors of vertices\n",
        "    pred = [-1 for _ in range(gr.V)]\n",
        "    pred[start] = None\n",
        "\n",
        "    # calulating first neigbours of start vertice\n",
        "    for u, v, w in gr.graph:\n",
        "        if u == start:\n",
        "            map_heap[v] = w\n",
        "            pred[v] = u\n",
        "\n",
        "    while map_heap:\n",
        "        smallest = min(map_heap.values())\n",
        "        \n",
        "        # taking vertice with shortest path to it\n",
        "        temp_key = list(map_heap.keys())[list(map_heap.values()).index(smallest)]\n",
        "        dist[temp_key] = map_heap.pop(temp_key)\n",
        "\n",
        "        for u, v, w in gr.graph:\n",
        "            if ((u == temp_key) and (v in map_heap.keys())):\n",
        "                # recalculating path to vertice\n",
        "                if map_heap[v] > dist[temp_key] + w:\n",
        "                    map_heap[v] = dist[temp_key] + w\n",
        "                    pred[v] = temp_key\n"
      ]
    },
    {
      "cell_type": "markdown",
      "metadata": {},
      "source": [
        "# Bellman-Ford <a class=\"anchor\" id=\"bellman_ford\"></a>\n",
        "\n",
        "In not negative weight graph we take vertices with shortest path to it (we won't find shorter in this case) and calculating it's neighbour's paths.\n",
        "\n",
        "<div class=\"alert alert-block alert-info\">\n",
        "Dijkstra is vulnerable to negative weighted edges in grapgh\n",
        "</div>\n",
        "\n",
        "Time complexity: O(V * E)"
      ]
    },
    {
      "cell_type": "code",
      "execution_count": null,
      "metadata": {},
      "outputs": [],
      "source": [
        "def bellman_ford(gr, start: int) -> None:\n",
        "    # list of distances to vertices\n",
        "    dist = [float('inf') for _ in range(gr.V)]\n",
        "    dist[start] = 0\n",
        "    # predecessors of our vertices\n",
        "    pred = [-1 for _ in range(gr.V)]\n",
        "    pred[start] = None\n",
        "\n",
        "    for _ in range(gr.V - 1):\n",
        "        for u, v, w in gr.graph:\n",
        "            # found shorter path\n",
        "            if ((dist[u] != float('inf')) and (dist[u] + w < dist[v])):\n",
        "                dist[v] = dist[u] + w\n",
        "                pred[v] = u\n",
        "    \n",
        "    # if we'll find shorter path there is negavite loop\n",
        "    for u, v, w in gr.graph:\n",
        "        if ((dist[u] != float('inf')) and (dist[u] + w < dist[v])):\n",
        "            print(\"Graph contains negative weight cycle\")"
      ]
    }
  ],
  "metadata": {
    "colab": {
      "provenance": []
    },
    "kernelspec": {
      "display_name": "Python 3 (ipykernel)",
      "language": "python",
      "name": "python3"
    },
    "language_info": {
      "codemirror_mode": {
        "name": "ipython",
        "version": 3
      },
      "file_extension": ".py",
      "mimetype": "text/x-python",
      "name": "python",
      "nbconvert_exporter": "python",
      "pygments_lexer": "ipython3",
      "version": "3.9.7"
    }
  },
  "nbformat": 4,
  "nbformat_minor": 0
}
